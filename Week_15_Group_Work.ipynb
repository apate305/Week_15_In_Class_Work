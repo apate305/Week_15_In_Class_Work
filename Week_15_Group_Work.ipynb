{
 "cells": [
  {
   "cell_type": "markdown",
   "id": "b57cec9f",
   "metadata": {},
   "source": [
    "1. Look up SMOTE oversampling\n",
    "https://imbalanced-learn.org/stable/references/generated/imblearn.over_sampling.SMOT E.html "
   ]
  },
  {
   "cell_type": "markdown",
   "id": "89496e0b",
   "metadata": {},
   "source": [
    "a. Describe what it is in your own words in markdown."
   ]
  },
  {
   "cell_type": "markdown",
   "id": "93de1689",
   "metadata": {},
   "source": [
    "SMOTE is an oversampling method (resampling the minority class proportion to match the majority) where samples are generated for the minority class. In some oversampling techniques, the data from the minority class is simply duplicated. This does not produce any new information. SMOTE helps solve this issue because it generates synthetic minority data. \n",
    "\n",
    "How is new data generated?\n",
    "\n",
    "    SMOTE or Synthetic Minority Oversampling Technique uses KNN to generate samples. Specifically, first, a random sample is taken. Then the kNN for that random example is found. Typically the neighbors used is 5. A neighbor is selected at random and the synthetic example is created. "
   ]
  },
  {
   "cell_type": "markdown",
   "id": "e9d862a3",
   "metadata": {},
   "source": [
    "b. Use this technique with the diabetes dataset. Comment on the model\n",
    "performance compared to other methods. Make sure you are clear about why\n",
    "you chose the performance metric you did."
   ]
  },
  {
   "cell_type": "code",
   "execution_count": 16,
   "id": "b086ed06",
   "metadata": {},
   "outputs": [],
   "source": [
    "import numpy as np\n",
    "import pandas as pd\n",
    "import matplotlib.pyplot as plt\n",
    "import seaborn as sns"
   ]
  },
  {
   "cell_type": "code",
   "execution_count": 17,
   "id": "0dbea2d7",
   "metadata": {},
   "outputs": [
    {
     "data": {
      "text/html": [
       "<div>\n",
       "<style scoped>\n",
       "    .dataframe tbody tr th:only-of-type {\n",
       "        vertical-align: middle;\n",
       "    }\n",
       "\n",
       "    .dataframe tbody tr th {\n",
       "        vertical-align: top;\n",
       "    }\n",
       "\n",
       "    .dataframe thead th {\n",
       "        text-align: right;\n",
       "    }\n",
       "</style>\n",
       "<table border=\"1\" class=\"dataframe\">\n",
       "  <thead>\n",
       "    <tr style=\"text-align: right;\">\n",
       "      <th></th>\n",
       "      <th>Pregnancies</th>\n",
       "      <th>Glucose</th>\n",
       "      <th>BloodPressure</th>\n",
       "      <th>SkinThickness</th>\n",
       "      <th>Insulin</th>\n",
       "      <th>BMI</th>\n",
       "      <th>DiabetesPedigreeFunction</th>\n",
       "      <th>Age</th>\n",
       "      <th>Outcome</th>\n",
       "    </tr>\n",
       "  </thead>\n",
       "  <tbody>\n",
       "    <tr>\n",
       "      <th>0</th>\n",
       "      <td>6</td>\n",
       "      <td>148</td>\n",
       "      <td>72</td>\n",
       "      <td>35</td>\n",
       "      <td>0</td>\n",
       "      <td>33.6</td>\n",
       "      <td>0.627</td>\n",
       "      <td>50</td>\n",
       "      <td>1</td>\n",
       "    </tr>\n",
       "    <tr>\n",
       "      <th>1</th>\n",
       "      <td>1</td>\n",
       "      <td>85</td>\n",
       "      <td>66</td>\n",
       "      <td>29</td>\n",
       "      <td>0</td>\n",
       "      <td>26.6</td>\n",
       "      <td>0.351</td>\n",
       "      <td>31</td>\n",
       "      <td>0</td>\n",
       "    </tr>\n",
       "    <tr>\n",
       "      <th>2</th>\n",
       "      <td>8</td>\n",
       "      <td>183</td>\n",
       "      <td>64</td>\n",
       "      <td>0</td>\n",
       "      <td>0</td>\n",
       "      <td>23.3</td>\n",
       "      <td>0.672</td>\n",
       "      <td>32</td>\n",
       "      <td>1</td>\n",
       "    </tr>\n",
       "    <tr>\n",
       "      <th>3</th>\n",
       "      <td>1</td>\n",
       "      <td>89</td>\n",
       "      <td>66</td>\n",
       "      <td>23</td>\n",
       "      <td>94</td>\n",
       "      <td>28.1</td>\n",
       "      <td>0.167</td>\n",
       "      <td>21</td>\n",
       "      <td>0</td>\n",
       "    </tr>\n",
       "    <tr>\n",
       "      <th>4</th>\n",
       "      <td>0</td>\n",
       "      <td>137</td>\n",
       "      <td>40</td>\n",
       "      <td>35</td>\n",
       "      <td>168</td>\n",
       "      <td>43.1</td>\n",
       "      <td>2.288</td>\n",
       "      <td>33</td>\n",
       "      <td>1</td>\n",
       "    </tr>\n",
       "  </tbody>\n",
       "</table>\n",
       "</div>"
      ],
      "text/plain": [
       "   Pregnancies  Glucose  BloodPressure  SkinThickness  Insulin   BMI  \\\n",
       "0            6      148             72             35        0  33.6   \n",
       "1            1       85             66             29        0  26.6   \n",
       "2            8      183             64              0        0  23.3   \n",
       "3            1       89             66             23       94  28.1   \n",
       "4            0      137             40             35      168  43.1   \n",
       "\n",
       "   DiabetesPedigreeFunction  Age  Outcome  \n",
       "0                     0.627   50        1  \n",
       "1                     0.351   31        0  \n",
       "2                     0.672   32        1  \n",
       "3                     0.167   21        0  \n",
       "4                     2.288   33        1  "
      ]
     },
     "execution_count": 17,
     "metadata": {},
     "output_type": "execute_result"
    }
   ],
   "source": [
    "diabetes_df = pd.read_csv(\"diabetes copy2.csv\")\n",
    "diabetes_df.head()"
   ]
  },
  {
   "cell_type": "code",
   "execution_count": 18,
   "id": "1cd99b45",
   "metadata": {},
   "outputs": [
    {
     "data": {
      "text/plain": [
       "0    500\n",
       "1    268\n",
       "Name: Outcome, dtype: int64"
      ]
     },
     "execution_count": 18,
     "metadata": {},
     "output_type": "execute_result"
    }
   ],
   "source": [
    "diabetes_df['Outcome'].value_counts()"
   ]
  },
  {
   "cell_type": "code",
   "execution_count": 19,
   "id": "7b816eb7",
   "metadata": {},
   "outputs": [],
   "source": [
    "from imblearn.over_sampling import SMOTE"
   ]
  },
  {
   "cell_type": "code",
   "execution_count": 20,
   "id": "5de0fe32",
   "metadata": {},
   "outputs": [],
   "source": [
    "from sklearn.model_selection import train_test_split\n",
    "from sklearn.preprocessing import StandardScaler\n",
    "\n",
    "X = diabetes_df.drop('Outcome', axis=1)\n",
    "y = diabetes_df['Outcome']\n",
    "\n",
    "X_train, X_test, y_train, y_test = train_test_split(X,y, test_size=0.3, random_state=42, stratify=y)\n",
    "\n",
    "#Standardize (values get centered around the average [mean] )\n",
    "sc = StandardScaler()\n",
    "X_train_scaler = sc.fit_transform(X_train)\n",
    "X_test_scaler = sc.fit_transform(X_test)"
   ]
  },
  {
   "cell_type": "code",
   "execution_count": 21,
   "id": "03ba5459",
   "metadata": {},
   "outputs": [],
   "source": [
    "#Oversampling the data\n",
    "smote = SMOTE(random_state = 42)\n",
    "X_resampled, y_resampled = smote.fit_resample(X_train_scaler, y_train)"
   ]
  },
  {
   "cell_type": "code",
   "execution_count": 22,
   "id": "f792e29c",
   "metadata": {},
   "outputs": [],
   "source": [
    "from sklearn.linear_model import LogisticRegression"
   ]
  },
  {
   "cell_type": "code",
   "execution_count": 23,
   "id": "09dd637d",
   "metadata": {},
   "outputs": [
    {
     "data": {
      "text/plain": [
       "LogisticRegression(random_state=42)"
      ]
     },
     "execution_count": 23,
     "metadata": {},
     "output_type": "execute_result"
    }
   ],
   "source": [
    "#train using resampled data\n",
    "model = LogisticRegression(random_state=42)\n",
    "model.fit(X_resampled, y_resampled)"
   ]
  },
  {
   "cell_type": "code",
   "execution_count": 24,
   "id": "57dcd581",
   "metadata": {},
   "outputs": [],
   "source": [
    "y_pred = model.predict(X_test_scaler)"
   ]
  },
  {
   "cell_type": "code",
   "execution_count": 25,
   "id": "34f78ac5",
   "metadata": {},
   "outputs": [
    {
     "name": "stdout",
     "output_type": "stream",
     "text": [
      "                   pre       rec       spe        f1       geo       iba       sup\n",
      "\n",
      "          0       0.84      0.78      0.73      0.81      0.75      0.57       150\n",
      "          1       0.64      0.73      0.78      0.68      0.75      0.57        81\n",
      "\n",
      "avg / total       0.77      0.76      0.75      0.76      0.75      0.57       231\n",
      "\n"
     ]
    }
   ],
   "source": [
    "from imblearn.metrics import classification_report_imbalanced\n",
    "y_pred = model.predict(X_test_scaler)\n",
    "print(classification_report_imbalanced(y_test, y_pred))"
   ]
  },
  {
   "cell_type": "markdown",
   "id": "7b918965",
   "metadata": {},
   "source": [
    "The model performance I would look at is recall since resampling gives us a better understanding of the positives. \n",
    "\n",
    "The recall percent for 1 is, [true positives (diabetic)] 73% that means this model is good in predicting the positive cases."
   ]
  },
  {
   "cell_type": "markdown",
   "id": "03263951",
   "metadata": {},
   "source": [
    "2. Create a function called rec_digit_sum that takes in an integer. This function is the recursive sum of all the digits in a number.\n",
    "\n",
    "\n",
    "Given n, take the sum of all the digits in n. If the resulting value has more than one digit, continue calling the function in this way until a single-digit number is produced. The input will be a non-negative integer, and this should work for extremely large values as well as for single-digit inputs.\n",
    "\n",
    "\n",
    "Examples:\n",
    "- 16 --> 1+6=7\n",
    "- 942 --> 9+4+2=15 --> 1+5=6\n",
    "- 132189 --> 1+3+2+1+8+9=24 --> 2+4=6 \n",
    "- 493193 --> 4+9+3+1+9+3=29 --> 2+9=11-->1+1 =2"
   ]
  },
  {
   "cell_type": "code",
   "execution_count": 60,
   "id": "e31331e3",
   "metadata": {},
   "outputs": [],
   "source": [
    "def rec_digit_sum (i): \n",
    "    if i == 0:\n",
    "        return 0\n",
    "    else: \n",
    "        s = (i % 10) + rec_digit_sum(i // 10)\n",
    "        \n",
    "        if s > 9:\n",
    "            return rec_digit_sum (s)\n",
    "    return s\n"
   ]
  },
  {
   "cell_type": "code",
   "execution_count": 61,
   "id": "d4dbe720",
   "metadata": {},
   "outputs": [
    {
     "data": {
      "text/plain": [
       "7"
      ]
     },
     "execution_count": 61,
     "metadata": {},
     "output_type": "execute_result"
    }
   ],
   "source": [
    "rec_digit_sum (16)"
   ]
  },
  {
   "cell_type": "code",
   "execution_count": 62,
   "id": "215599de",
   "metadata": {},
   "outputs": [
    {
     "data": {
      "text/plain": [
       "6"
      ]
     },
     "execution_count": 62,
     "metadata": {},
     "output_type": "execute_result"
    }
   ],
   "source": [
    "rec_digit_sum (942)"
   ]
  },
  {
   "cell_type": "code",
   "execution_count": 63,
   "id": "e19db9f1",
   "metadata": {},
   "outputs": [
    {
     "data": {
      "text/plain": [
       "6"
      ]
     },
     "execution_count": 63,
     "metadata": {},
     "output_type": "execute_result"
    }
   ],
   "source": [
    "rec_digit_sum (132189)"
   ]
  },
  {
   "cell_type": "code",
   "execution_count": 64,
   "id": "40f44c1f",
   "metadata": {},
   "outputs": [
    {
     "data": {
      "text/plain": [
       "2"
      ]
     },
     "execution_count": 64,
     "metadata": {},
     "output_type": "execute_result"
    }
   ],
   "source": [
    "rec_digit_sum (493193)"
   ]
  },
  {
   "cell_type": "markdown",
   "id": "9acbf58b",
   "metadata": {},
   "source": [
    "# Why it works"
   ]
  },
  {
   "cell_type": "markdown",
   "id": "5dc8b433",
   "metadata": {},
   "source": [
    "If user inputs a 0, 0 is returned. \n",
    "\n",
    "Otherwise, the i modulus 10 is taken. Which divides i by 10 but returns the remainder. \n",
    "\n",
    "If i is greater than 10, the remainder of this operation will always be the last digit of i. If i is less than 10, then the remainder is 0. \n",
    "\n",
    "The result is added to the function, 'rec_digit_sum', consisting of the following argument: \n",
    "\n",
    "    i 'floor' divided by 10 which only returns the whole number consisting of all the digits excluding the \n",
    "    last (which is taken care of by the modulus).\n",
    "\n",
    "    This argument, as mentioned before, \"goes back\" into the function and can enter the conditional statement \n",
    "    (if not equal to 0).  Each time the \"new i\" is passed into the function, the modulus and floor division \n",
    "    operators seperate the number into the last digit and preceding digits respectively until the i modulus 10 \n",
    "    is equal to 0.\n",
    "\n",
    "\n",
    "        If the sum of the digits 's', is greater than 9 (or had more than 1 digit), the function is called on \n",
    "        yet again and will continue to be called on until s is less than 9"
   ]
  }
 ],
 "metadata": {
  "kernelspec": {
   "display_name": "Python 3 (ipykernel)",
   "language": "python",
   "name": "python3"
  },
  "language_info": {
   "codemirror_mode": {
    "name": "ipython",
    "version": 3
   },
   "file_extension": ".py",
   "mimetype": "text/x-python",
   "name": "python",
   "nbconvert_exporter": "python",
   "pygments_lexer": "ipython3",
   "version": "3.9.7"
  }
 },
 "nbformat": 4,
 "nbformat_minor": 5
}
